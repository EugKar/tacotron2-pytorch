{
 "cells": [
  {
   "cell_type": "markdown",
   "metadata": {},
   "source": [
    "## Tacotron 2 inference code \n",
    "Edit the variables **checkpoint_path** and **text** to match yours and run the entire code to generate plots of mel outputs, alignments and audio synthesis from the generated mel-spectrogram using Griffin-Lim."
   ]
  },
  {
   "cell_type": "markdown",
   "metadata": {},
   "source": [
    "#### Import libraries and setup matplotlib"
   ]
  },
  {
   "cell_type": "code",
   "execution_count": 1,
   "metadata": {},
   "outputs": [
    {
     "name": "stderr",
     "output_type": "stream",
     "text": [
      "/home/eugene/tacotron2-pytorch/plotting_utils.py:2: UserWarning: \n",
      "This call to matplotlib.use() has no effect because the backend has already\n",
      "been chosen; matplotlib.use() must be called *before* pylab, matplotlib.pyplot,\n",
      "or matplotlib.backends is imported for the first time.\n",
      "\n",
      "The backend was *originally* set to 'module://ipykernel.pylab.backend_inline' by the following code:\n",
      "  File \"/home/eugene/anaconda3/envs/tacotron-pytorch/lib/python3.6/runpy.py\", line 193, in _run_module_as_main\n",
      "    \"__main__\", mod_spec)\n",
      "  File \"/home/eugene/anaconda3/envs/tacotron-pytorch/lib/python3.6/runpy.py\", line 85, in _run_code\n",
      "    exec(code, run_globals)\n",
      "  File \"/home/eugene/anaconda3/envs/tacotron-pytorch/lib/python3.6/site-packages/ipykernel_launcher.py\", line 16, in <module>\n",
      "    app.launch_new_instance()\n",
      "  File \"/home/eugene/anaconda3/envs/tacotron-pytorch/lib/python3.6/site-packages/traitlets/config/application.py\", line 658, in launch_instance\n",
      "    app.start()\n",
      "  File \"/home/eugene/anaconda3/envs/tacotron-pytorch/lib/python3.6/site-packages/ipykernel/kernelapp.py\", line 505, in start\n",
      "    self.io_loop.start()\n",
      "  File \"/home/eugene/anaconda3/envs/tacotron-pytorch/lib/python3.6/site-packages/tornado/platform/asyncio.py\", line 148, in start\n",
      "    self.asyncio_loop.run_forever()\n",
      "  File \"/home/eugene/anaconda3/envs/tacotron-pytorch/lib/python3.6/asyncio/base_events.py\", line 422, in run_forever\n",
      "    self._run_once()\n",
      "  File \"/home/eugene/anaconda3/envs/tacotron-pytorch/lib/python3.6/asyncio/base_events.py\", line 1434, in _run_once\n",
      "    handle._run()\n",
      "  File \"/home/eugene/anaconda3/envs/tacotron-pytorch/lib/python3.6/asyncio/events.py\", line 145, in _run\n",
      "    self._callback(*self._args)\n",
      "  File \"/home/eugene/anaconda3/envs/tacotron-pytorch/lib/python3.6/site-packages/tornado/ioloop.py\", line 690, in <lambda>\n",
      "    lambda f: self._run_callback(functools.partial(callback, future))\n",
      "  File \"/home/eugene/anaconda3/envs/tacotron-pytorch/lib/python3.6/site-packages/tornado/ioloop.py\", line 743, in _run_callback\n",
      "    ret = callback()\n",
      "  File \"/home/eugene/anaconda3/envs/tacotron-pytorch/lib/python3.6/site-packages/tornado/gen.py\", line 781, in inner\n",
      "    self.run()\n",
      "  File \"/home/eugene/anaconda3/envs/tacotron-pytorch/lib/python3.6/site-packages/tornado/gen.py\", line 742, in run\n",
      "    yielded = self.gen.send(value)\n",
      "  File \"/home/eugene/anaconda3/envs/tacotron-pytorch/lib/python3.6/site-packages/ipykernel/kernelbase.py\", line 357, in process_one\n",
      "    yield gen.maybe_future(dispatch(*args))\n",
      "  File \"/home/eugene/anaconda3/envs/tacotron-pytorch/lib/python3.6/site-packages/tornado/gen.py\", line 209, in wrapper\n",
      "    yielded = next(result)\n",
      "  File \"/home/eugene/anaconda3/envs/tacotron-pytorch/lib/python3.6/site-packages/ipykernel/kernelbase.py\", line 267, in dispatch_shell\n",
      "    yield gen.maybe_future(handler(stream, idents, msg))\n",
      "  File \"/home/eugene/anaconda3/envs/tacotron-pytorch/lib/python3.6/site-packages/tornado/gen.py\", line 209, in wrapper\n",
      "    yielded = next(result)\n",
      "  File \"/home/eugene/anaconda3/envs/tacotron-pytorch/lib/python3.6/site-packages/ipykernel/kernelbase.py\", line 534, in execute_request\n",
      "    user_expressions, allow_stdin,\n",
      "  File \"/home/eugene/anaconda3/envs/tacotron-pytorch/lib/python3.6/site-packages/tornado/gen.py\", line 209, in wrapper\n",
      "    yielded = next(result)\n",
      "  File \"/home/eugene/anaconda3/envs/tacotron-pytorch/lib/python3.6/site-packages/ipykernel/ipkernel.py\", line 294, in do_execute\n",
      "    res = shell.run_cell(code, store_history=store_history, silent=silent)\n",
      "  File \"/home/eugene/anaconda3/envs/tacotron-pytorch/lib/python3.6/site-packages/ipykernel/zmqshell.py\", line 536, in run_cell\n",
      "    return super(ZMQInteractiveShell, self).run_cell(*args, **kwargs)\n",
      "  File \"/home/eugene/anaconda3/envs/tacotron-pytorch/lib/python3.6/site-packages/IPython/core/interactiveshell.py\", line 2848, in run_cell\n",
      "    raw_cell, store_history, silent, shell_futures)\n",
      "  File \"/home/eugene/anaconda3/envs/tacotron-pytorch/lib/python3.6/site-packages/IPython/core/interactiveshell.py\", line 2874, in _run_cell\n",
      "    return runner(coro)\n",
      "  File \"/home/eugene/anaconda3/envs/tacotron-pytorch/lib/python3.6/site-packages/IPython/core/async_helpers.py\", line 67, in _pseudo_sync_runner\n",
      "    coro.send(None)\n",
      "  File \"/home/eugene/anaconda3/envs/tacotron-pytorch/lib/python3.6/site-packages/IPython/core/interactiveshell.py\", line 3049, in run_cell_async\n",
      "    interactivity=interactivity, compiler=compiler, result=result)\n",
      "  File \"/home/eugene/anaconda3/envs/tacotron-pytorch/lib/python3.6/site-packages/IPython/core/interactiveshell.py\", line 3214, in run_ast_nodes\n",
      "    if (yield from self.run_code(code, result)):\n",
      "  File \"/home/eugene/anaconda3/envs/tacotron-pytorch/lib/python3.6/site-packages/IPython/core/interactiveshell.py\", line 3296, in run_code\n",
      "    exec(code_obj, self.user_global_ns, self.user_ns)\n",
      "  File \"<ipython-input-1-2ec44aba07f6>\", line 4, in <module>\n",
      "    get_ipython().run_line_magic('matplotlib', 'inline')\n",
      "  File \"/home/eugene/anaconda3/envs/tacotron-pytorch/lib/python3.6/site-packages/IPython/core/interactiveshell.py\", line 2307, in run_line_magic\n",
      "    result = fn(*args, **kwargs)\n",
      "  File \"</home/eugene/anaconda3/envs/tacotron-pytorch/lib/python3.6/site-packages/decorator.py:decorator-gen-108>\", line 2, in matplotlib\n",
      "  File \"/home/eugene/anaconda3/envs/tacotron-pytorch/lib/python3.6/site-packages/IPython/core/magic.py\", line 187, in <lambda>\n",
      "    call = lambda f, *a, **k: f(*a, **k)\n",
      "  File \"/home/eugene/anaconda3/envs/tacotron-pytorch/lib/python3.6/site-packages/IPython/core/magics/pylab.py\", line 99, in matplotlib\n",
      "    gui, backend = self.shell.enable_matplotlib(args.gui)\n",
      "  File \"/home/eugene/anaconda3/envs/tacotron-pytorch/lib/python3.6/site-packages/IPython/core/interactiveshell.py\", line 3384, in enable_matplotlib\n",
      "    pt.activate_matplotlib(backend)\n",
      "  File \"/home/eugene/anaconda3/envs/tacotron-pytorch/lib/python3.6/site-packages/IPython/core/pylabtools.py\", line 314, in activate_matplotlib\n",
      "    matplotlib.pyplot.switch_backend(backend)\n",
      "  File \"/home/eugene/anaconda3/envs/tacotron-pytorch/lib/python3.6/site-packages/matplotlib/pyplot.py\", line 229, in switch_backend\n",
      "    matplotlib.use(newbackend, warn=False, force=True)\n",
      "  File \"/home/eugene/anaconda3/envs/tacotron-pytorch/lib/python3.6/site-packages/matplotlib/__init__.py\", line 1305, in use\n",
      "    reload(sys.modules['matplotlib.backends'])\n",
      "  File \"/home/eugene/anaconda3/envs/tacotron-pytorch/lib/python3.6/importlib/__init__.py\", line 166, in reload\n",
      "    _bootstrap._exec(spec, module)\n",
      "  File \"/home/eugene/anaconda3/envs/tacotron-pytorch/lib/python3.6/site-packages/matplotlib/backends/__init__.py\", line 14, in <module>\n",
      "    line for line in traceback.format_stack()\n",
      "\n",
      "\n",
      "  matplotlib.use(\"Agg\")\n"
     ]
    }
   ],
   "source": [
    "%load_ext autoreload\n",
    "%autoreload 2\n",
    "import matplotlib\n",
    "%matplotlib inline\n",
    "import matplotlib.pylab as plt\n",
    "\n",
    "import IPython.display as ipd\n",
    "\n",
    "import json\n",
    "import sys\n",
    "sys.path.append('waveglow/')\n",
    "import numpy as np\n",
    "import torch\n",
    "import librosa\n",
    "from hparams import create_hparams\n",
    "from model import Tacotron2, VAE\n",
    "from layers import TacotronSTFT, STFT\n",
    "from audio_processing import griffin_lim\n",
    "from train import load_model\n",
    "from text import text_to_sequence\n",
    "from denoiser import Denoiser\n",
    "from utils import load_wav_to_torch, to_gpu\n",
    "from glow import WaveGlow"
   ]
  },
  {
   "cell_type": "code",
   "execution_count": 2,
   "metadata": {},
   "outputs": [],
   "source": [
    "def plot_data(data, figsize=(16, 4)):\n",
    "    fig, axes = plt.subplots(1, len(data), figsize=figsize)\n",
    "    for i in range(len(data)):\n",
    "        axes[i].imshow(data[i], aspect='auto', origin='bottom', \n",
    "                       interpolation='none')"
   ]
  },
  {
   "cell_type": "markdown",
   "metadata": {},
   "source": [
    "#### Setup hparams"
   ]
  },
  {
   "cell_type": "code",
   "execution_count": 3,
   "metadata": {},
   "outputs": [
    {
     "name": "stdout",
     "output_type": "stream",
     "text": [
      "\n",
      "WARNING: The TensorFlow contrib module will not be included in TensorFlow 2.0.\n",
      "For more information, please see:\n",
      "  * https://github.com/tensorflow/community/blob/master/rfcs/20180907-contrib-sunset.md\n",
      "  * https://github.com/tensorflow/addons\n",
      "If you depend on functionality not listed there, please file an issue.\n",
      "\n"
     ]
    }
   ],
   "source": [
    "hparams = create_hparams()\n",
    "hparams.sampling_rate = 22050\n",
    "# hparams.sampling_rate = 24000"
   ]
  },
  {
   "cell_type": "markdown",
   "metadata": {},
   "source": [
    "#### Load model from checkpoint"
   ]
  },
  {
   "cell_type": "code",
   "execution_count": 52,
   "metadata": {},
   "outputs": [],
   "source": [
    "# checkpoint_path = \"tacotron2_statedict.pt\"\n",
    "# checkpoint_path = 'checkpoint_15000'\n",
    "# checkpoint_path = 'spanish_checkpoints/checkpoint_19000'\n",
    "checkpoint_path = 'libritts_checkpoints/checkpoint_121000'\n",
    "model = load_model(hparams)\n",
    "model.load_state_dict(torch.load(checkpoint_path)['state_dict'])\n",
    "_ = model.cuda().eval().half()"
   ]
  },
  {
   "cell_type": "markdown",
   "metadata": {},
   "source": [
    "#### Load WaveGlow for mel2audio synthesis and denoiser"
   ]
  },
  {
   "cell_type": "code",
   "execution_count": 5,
   "metadata": {},
   "outputs": [
    {
     "name": "stderr",
     "output_type": "stream",
     "text": [
      "/home/eugene/anaconda3/envs/tacotron-pytorch/lib/python3.6/site-packages/torch/serialization.py:454: SourceChangeWarning: source code of class 'torch.nn.modules.conv.ConvTranspose1d' has changed. you can retrieve the original source code by accessing the object's source attribute or set `torch.nn.Module.dump_patches = True` and use the patch tool to revert the changes.\n",
      "  warnings.warn(msg, SourceChangeWarning)\n",
      "/home/eugene/anaconda3/envs/tacotron-pytorch/lib/python3.6/site-packages/torch/serialization.py:454: SourceChangeWarning: source code of class 'torch.nn.modules.conv.Conv1d' has changed. you can retrieve the original source code by accessing the object's source attribute or set `torch.nn.Module.dump_patches = True` and use the patch tool to revert the changes.\n",
      "  warnings.warn(msg, SourceChangeWarning)\n",
      "/home/eugene/anaconda3/envs/tacotron-pytorch/lib/python3.6/site-packages/torch/serialization.py:454: SourceChangeWarning: source code of class 'glow.Invertible1x1Conv' has changed. you can retrieve the original source code by accessing the object's source attribute or set `torch.nn.Module.dump_patches = True` and use the patch tool to revert the changes.\n",
      "  warnings.warn(msg, SourceChangeWarning)\n"
     ]
    }
   ],
   "source": [
    "waveglow_path = 'waveglow_256channels.pt'\n",
    "waveglow_config_path = 'waveglow/config.json'\n",
    "with open(waveglow_config_path) as f:\n",
    "    data = f.read()\n",
    "config = json.loads(data)\n",
    "waveglow_config = config[\"waveglow_config\"]\n",
    "\n",
    "# waveglow = torch.load(waveglow_path)['model']\n",
    "model_state_dict = torch.load(waveglow_path)['model'].state_dict()\n",
    "waveglow = WaveGlow(**waveglow_config)\n",
    "waveglow.load_state_dict(model_state_dict)\n",
    "\n",
    "waveglow.cuda().eval().half()\n",
    "for k in waveglow.convinv:\n",
    "    k.float()\n",
    "denoiser = Denoiser(waveglow)"
   ]
  },
  {
   "cell_type": "markdown",
   "metadata": {},
   "source": [
    "#### Prepare text input"
   ]
  },
  {
   "cell_type": "code",
   "execution_count": 58,
   "metadata": {},
   "outputs": [],
   "source": [
    "# text = \"Waveglow is really awesome!\"\n",
    "text = \"Hello\"\n",
    "# text = \"buenas tardes\"\n",
    "sequence = np.array(text_to_sequence(text, ['spanish_cleaners']))[None, :]\n",
    "sequence = torch.autograd.Variable(\n",
    "    torch.from_numpy(sequence)).cuda().long() "
   ]
  },
  {
   "cell_type": "markdown",
   "metadata": {},
   "source": [
    "#### Infer speaker info"
   ]
  },
  {
   "cell_type": "code",
   "execution_count": 59,
   "metadata": {},
   "outputs": [],
   "source": [
    "stft = TacotronSTFT(hparams.filter_length, hparams.hop_length, hparams.win_length,\n",
    "                    hparams.n_mel_channels, hparams.sampling_rate, hparams.mel_fmin,\n",
    "                    hparams.mel_fmax)"
   ]
  },
  {
   "cell_type": "code",
   "execution_count": 60,
   "metadata": {},
   "outputs": [],
   "source": [
    "def get_mel(filename):\n",
    "    audio, sampling_rate = load_wav_to_torch(filename, hparams.sampling_rate)\n",
    "    if sampling_rate != hparams.sampling_rate:\n",
    "        raise ValueError(\"{} {} SR doesn't match target {} SR\".format(\n",
    "            sampling_rate, hparams.sampling_rate))\n",
    "#     audio_norm = audio / hparams.max_wav_value\n",
    "    audio_norm = audio.unsqueeze(0)\n",
    "    audio_norm = torch.autograd.Variable(audio_norm, requires_grad=False)\n",
    "    melspec = stft.mel_spectrogram(audio_norm)\n",
    "    melspec = torch.squeeze(melspec, 0)\n",
    "    return melspec"
   ]
  },
  {
   "cell_type": "code",
   "execution_count": 66,
   "metadata": {},
   "outputs": [],
   "source": [
    "# audio = '/mnt/data/corpora/LibriTTS/dev-clean/3000/15664/3000_15664_000020_000007.wav'\n",
    "audio = '/mnt/data/corpora/LJSpeech-1.1/wavs/LJ001-0057.wav'\n",
    "mel = to_gpu(get_mel(audio).unsqueeze(0)).half()"
   ]
  },
  {
   "cell_type": "code",
   "execution_count": 67,
   "metadata": {},
   "outputs": [],
   "source": [
    "latent_z, _ = model.latent_z.inference(mel)\n",
    "observed_z, _ = model.observed_z.inference(mel)\n",
    "# latent_z = torch.ones_like(latent_z).cuda()\n",
    "# observed_z = torch.ones_like(observed_z).cuda()"
   ]
  },
  {
   "cell_type": "code",
   "execution_count": 68,
   "metadata": {},
   "outputs": [
    {
     "data": {
      "text/plain": [
       "tensor([[ 0.0085,  0.0081, -0.0107, -0.0145,  0.0019,  0.0014, -0.0061,  0.0095,\n",
       "          0.0148,  0.0077,  0.0056,  0.0056, -0.0152,  0.0105,  0.0076,  0.0053]],\n",
       "       device='cuda:0', dtype=torch.float16, grad_fn=<AddmmBackward>)"
      ]
     },
     "execution_count": 68,
     "metadata": {},
     "output_type": "execute_result"
    }
   ],
   "source": [
    "observed_z"
   ]
  },
  {
   "cell_type": "markdown",
   "metadata": {},
   "source": [
    "#### Decode text input and plot results"
   ]
  },
  {
   "cell_type": "code",
   "execution_count": 69,
   "metadata": {
    "scrolled": true
   },
   "outputs": [
    {
     "data": {
      "image/png": "[encoded data removed]",
      "text/plain": [
       "<matplotlib.figure.Figure at 0x7f9e4dd02d68>"
      ]
     },
     "metadata": {
      "needs_background": "light"
     },
     "output_type": "display_data"
    }
   ],
   "source": [
    "# mel_outputs, mel_outputs_postnet, _, alignments = model.inference(sequence)\n",
    "mel_outputs, mel_outputs_postnet, _, alignments = model.synthesizer.inference(sequence,\n",
    "                                                                      latent_z, observed_z)\n",
    "plot_data((mel_outputs.float().data.cpu().numpy()[0],\n",
    "           mel_outputs_postnet.float().data.cpu().numpy()[0],\n",
    "           alignments.float().data.cpu().numpy()[0].T))"
   ]
  },
  {
   "cell_type": "markdown",
   "metadata": {},
   "source": [
    "#### Synthesize audio from spectrogram using WaveGlow"
   ]
  },
  {
   "cell_type": "code",
   "execution_count": 70,
   "metadata": {},
   "outputs": [
    {
     "data": {
      "text/html": [
       "\n",
       "                <audio  controls=\"controls\" >\n",
       "                    <source src=\"data:audio/wav;base64,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\" type=\"audio/wav\" />\n",
       "                    Your browser does not support the audio element.\n",
       "                </audio>\n",
       "              "
      ],
      "text/plain": [
       "<IPython.lib.display.Audio object>"
      ]
     },
     "execution_count": 70,
     "metadata": {},
     "output_type": "execute_result"
    }
   ],
   "source": [
    "with torch.no_grad():\n",
    "    audio = waveglow.infer(mel_outputs_postnet, sigma=0.666)\n",
    "ipd.Audio(audio[0].data.cpu().numpy(), rate=hparams.sampling_rate)"
   ]
  },
  {
   "cell_type": "markdown",
   "metadata": {},
   "source": [
    "#### (Optional) Remove WaveGlow bias"
   ]
  },
  {
   "cell_type": "code",
   "execution_count": null,
   "metadata": {},
   "outputs": [],
   "source": [
    "audio_denoised = denoiser(audio, strength=0.01)[:, 0]\n",
    "ipd.Audio(audio_denoised.cpu().numpy(), rate=hparams.sampling_rate) "
   ]
  },
  {
   "cell_type": "code",
   "execution_count": 59,
   "metadata": {},
   "outputs": [
    {
     "data": {
      "text/plain": [
       "tensor([[39, 58, 42, 51, 38, 56, 11, 57, 38, 55, 41, 42, 56,  7]],\n",
       "       device='cuda:0')"
      ]
     },
     "execution_count": 59,
     "metadata": {},
     "output_type": "execute_result"
    }
   ],
   "source": [
    "sequence"
   ]
  },
  {
   "cell_type": "code",
   "execution_count": null,
   "metadata": {},
   "outputs": [],
   "source": []
  }
 ],
 "metadata": {
  "kernelspec": {
   "display_name": "Python 3",
   "language": "python",
   "name": "python3"
  },
  "language_info": {
   "codemirror_mode": {
    "name": "ipython",
    "version": 3
   },
   "file_extension": ".py",
   "mimetype": "text/x-python",
   "name": "python",
   "nbconvert_exporter": "python",
   "pygments_lexer": "ipython3",
   "version": "3.6.6"
  }
 },
 "nbformat": 4,
 "nbformat_minor": 2
}
